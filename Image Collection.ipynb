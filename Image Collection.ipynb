{
 "cells": [
  {
   "cell_type": "code",
   "execution_count": null,
   "id": "8586cab9",
   "metadata": {},
   "outputs": [],
   "source": [
    "!pip install opencv-python"
   ]
  },
  {
   "cell_type": "code",
   "execution_count": 1,
   "id": "cf793f46",
   "metadata": {},
   "outputs": [],
   "source": [
    "# Import opencv\n",
    "import cv2 \n",
    "\n",
    "# Import uuid\n",
    "import uuid\n",
    "\n",
    "# Import Operating System\n",
    "import os\n",
    "\n",
    "# Import time\n",
    "import time"
   ]
  },
  {
   "cell_type": "code",
   "execution_count": 2,
   "id": "ea782391",
   "metadata": {},
   "outputs": [],
   "source": [
    "labels = ['0' , '1', '2', '3', '4', '5', '6', '7', '8', '9']\n",
    "number_imgs = 6"
   ]
  },
  {
   "cell_type": "code",
   "execution_count": 3,
   "id": "2bb33e53",
   "metadata": {},
   "outputs": [],
   "source": [
    "IMAGES_PATH = os.path.join('Tensorflow', 'workspace', 'images', 'collectedimages')"
   ]
  },
  {
   "cell_type": "code",
   "execution_count": 4,
   "id": "c29800a1",
   "metadata": {},
   "outputs": [],
   "source": [
    "if not os.path.exists(IMAGES_PATH):\n",
    "    if os.name == 'posix':\n",
    "        !mkdir -p {IMAGES_PATH}\n",
    "    if os.name == 'nt':\n",
    "         !mkdir {IMAGES_PATH}\n",
    "for label in labels:\n",
    "    path = os.path.join(IMAGES_PATH, label)\n",
    "    if not os.path.exists(path):\n",
    "        !mkdir {path}"
   ]
  },
  {
   "cell_type": "code",
   "execution_count": null,
   "id": "66a237bb",
   "metadata": {},
   "outputs": [],
   "source": [
    "\n",
    "for label in labels:\n",
    "    numbimg = 0\n",
    "    for count, filename in enumerate(os.listdir(f\"{IMAGES_PATH}/{label}\")):\n",
    "        dst = label+'.'+'{}.jpg'.format(str(uuid.uuid1()))\n",
    "        src =f\"{IMAGES_PATH}/{label}/{filename}\"  # foldername/filename, if .py file is outside folder\n",
    "        dst =f\"{IMAGES_PATH}/{label}/{dst}\"\n",
    "        \n",
    "         \n",
    "        # rename() function will\n",
    "        # rename all the files\n",
    "        os.rename(src, dst)\n",
    "        numbimg = numbimg + 1\n",
    "    print(numbimg)\n",
    "        "
   ]
  },
  {
   "cell_type": "code",
   "execution_count": null,
   "id": "7a4ebbb8",
   "metadata": {},
   "outputs": [],
   "source": [
    "!pip install --upgrade pyqt5 lxml"
   ]
  },
  {
   "cell_type": "code",
   "execution_count": null,
   "id": "47058355",
   "metadata": {},
   "outputs": [],
   "source": [
    "LABELIMG_PATH = os.path.join('Tensorflow', 'labelimg')"
   ]
  },
  {
   "cell_type": "code",
   "execution_count": null,
   "id": "1ab36821",
   "metadata": {},
   "outputs": [],
   "source": [
    "if not os.path.exists(LABELIMG_PATH):\n",
    "    !mkdir {LABELIMG_PATH}\n",
    "    !git clone https://github.com/tzutalin/labelImg {LABELIMG_PATH}"
   ]
  },
  {
   "cell_type": "code",
   "execution_count": null,
   "id": "0bd2c6eb",
   "metadata": {},
   "outputs": [],
   "source": [
    "if os.name == 'posix':\n",
    "    !make qt5py3\n",
    "if os.name =='nt':\n",
    "    !cd {LABELIMG_PATH} && pyrcc5 -o libs/resources.py resources.qrc"
   ]
  },
  {
   "cell_type": "code",
   "execution_count": null,
   "id": "9fbf6627",
   "metadata": {},
   "outputs": [],
   "source": [
    "!cd {LABELIMG_PATH} && python labelImg.py"
   ]
  },
  {
   "cell_type": "code",
   "execution_count": 5,
   "id": "38199822",
   "metadata": {},
   "outputs": [],
   "source": [
    "TRAIN_PATH = os.path.join('Tensorflow', 'workspace', 'images', 'train')\n",
    "TEST_PATH = os.path.join('Tensorflow', 'workspace', 'images', 'test')\n",
    "ARCHIVE_PATH = os.path.join('Tensorflow', 'workspace', 'images', 'archive.tar.gz')"
   ]
  },
  {
   "cell_type": "code",
   "execution_count": null,
   "id": "a699fcdc",
   "metadata": {},
   "outputs": [],
   "source": [
    "!pip install sip"
   ]
  },
  {
   "cell_type": "code",
   "execution_count": null,
   "id": "c1d4fa41",
   "metadata": {},
   "outputs": [],
   "source": [
    "!python labelImg.py"
   ]
  },
  {
   "cell_type": "code",
   "execution_count": null,
   "id": "412248ad",
   "metadata": {},
   "outputs": [],
   "source": []
  }
 ],
 "metadata": {
  "kernelspec": {
   "display_name": "tfod",
   "language": "python",
   "name": "tfod"
  },
  "language_info": {
   "codemirror_mode": {
    "name": "ipython",
    "version": 3
   },
   "file_extension": ".py",
   "mimetype": "text/x-python",
   "name": "python",
   "nbconvert_exporter": "python",
   "pygments_lexer": "ipython3",
   "version": "3.9.1"
  }
 },
 "nbformat": 4,
 "nbformat_minor": 5
}
